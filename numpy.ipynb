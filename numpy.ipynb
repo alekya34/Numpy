{
  "nbformat": 4,
  "nbformat_minor": 0,
  "metadata": {
    "colab": {
      "provenance": [],
      "authorship_tag": "ABX9TyMeUTQPQJi939ajkkWj+69x",
      "include_colab_link": true
    },
    "kernelspec": {
      "name": "python3",
      "display_name": "Python 3"
    },
    "language_info": {
      "name": "python"
    }
  },
  "cells": [
    {
      "cell_type": "markdown",
      "metadata": {
        "id": "view-in-github",
        "colab_type": "text"
      },
      "source": [
        "<a href=\"https://colab.research.google.com/github/alekya34/Numpy/blob/main/numpy.ipynb\" target=\"_parent\"><img src=\"https://colab.research.google.com/assets/colab-badge.svg\" alt=\"Open In Colab\"/></a>"
      ]
    },
    {
      "cell_type": "code",
      "execution_count": null,
      "metadata": {
        "colab": {
          "base_uri": "https://localhost:8080/"
        },
        "id": "XJhMrnB5jo0q",
        "outputId": "b380991a-e402-4b28-f0ba-593d0154c521"
      },
      "outputs": [
        {
          "output_type": "stream",
          "name": "stdout",
          "text": [
            "[1 5 6 7]\n",
            "<class 'numpy.ndarray'>\n"
          ]
        }
      ],
      "source": [
        "import numpy as np\n",
        "a=np.array([1,5,6,7])\n",
        "print(a)\n",
        "print(type(a))"
      ]
    },
    {
      "cell_type": "code",
      "source": [
        "# zero dimensional array\n",
        "b=np.array(20)\n",
        "print(b)\n",
        "print(type(b))"
      ],
      "metadata": {
        "colab": {
          "base_uri": "https://localhost:8080/"
        },
        "id": "ULmH0HEdj6lY",
        "outputId": "2ec78f85-4938-4746-cc08-9345cc7fdc7c"
      },
      "execution_count": null,
      "outputs": [
        {
          "output_type": "stream",
          "name": "stdout",
          "text": [
            "20\n",
            "<class 'numpy.ndarray'>\n"
          ]
        }
      ]
    },
    {
      "cell_type": "code",
      "source": [
        "#  two dimensional\n",
        "c=np.array([[1,4],[9,7]])\n",
        "print(c)\n",
        "d=np.array([[[1,4],[3,5],[9,5]]])\n",
        "print(d)\n",
        "# to know the dimension we use ndim method\n",
        "print(d.ndim)"
      ],
      "metadata": {
        "colab": {
          "base_uri": "https://localhost:8080/"
        },
        "id": "vrnkm7BPkIve",
        "outputId": "db38bad3-dd76-4524-df43-fabaa9377194"
      },
      "execution_count": null,
      "outputs": [
        {
          "output_type": "stream",
          "name": "stdout",
          "text": [
            "[[1 4]\n",
            " [9 7]]\n",
            "[[[1 4]\n",
            "  [3 5]\n",
            "  [9 5]]]\n",
            "3\n"
          ]
        }
      ]
    },
    {
      "cell_type": "code",
      "source": [
        "import numpy as np\n",
        "arr1=np.array([1,2,3])\n",
        "arr2=np.array([4,5,6])\n",
        "result=arr1+arr2\n",
        "print(result)"
      ],
      "metadata": {
        "colab": {
          "base_uri": "https://localhost:8080/"
        },
        "id": "x-bpIYUbk4ty",
        "outputId": "5add8902-f057-462f-c688-a5177d94d3fa"
      },
      "execution_count": null,
      "outputs": [
        {
          "output_type": "stream",
          "name": "stdout",
          "text": [
            "[5 7 9]\n"
          ]
        }
      ]
    },
    {
      "cell_type": "code",
      "source": [
        "#to generate random number\n",
        "from numpy import random\n",
        "x=random.randint(1000)\n",
        "print(x)"
      ],
      "metadata": {
        "colab": {
          "base_uri": "https://localhost:8080/"
        },
        "id": "2HkENoYIrTnA",
        "outputId": "e030a322-1b50-40ce-ffe5-eab7a8dd7205"
      },
      "execution_count": null,
      "outputs": [
        {
          "output_type": "stream",
          "name": "stdout",
          "text": [
            "391\n"
          ]
        }
      ]
    },
    {
      "cell_type": "code",
      "source": [
        "y=random.rand()\n",
        "print(y)"
      ],
      "metadata": {
        "colab": {
          "base_uri": "https://localhost:8080/"
        },
        "id": "7-q_iahwrhuM",
        "outputId": "2e49fb7c-12d9-4bb2-c17c-2c3f776533eb"
      },
      "execution_count": null,
      "outputs": [
        {
          "output_type": "stream",
          "name": "stdout",
          "text": [
            "0.2365579838286207\n"
          ]
        }
      ]
    },
    {
      "cell_type": "code",
      "source": [
        "#to generate random array\n",
        "x1=random.randint(100,size=(5))\n",
        "print(x1)"
      ],
      "metadata": {
        "colab": {
          "base_uri": "https://localhost:8080/"
        },
        "id": "YfmxJYORrmiD",
        "outputId": "d1cdea1d-0416-451a-fade-9bfc91a67dbf"
      },
      "execution_count": null,
      "outputs": [
        {
          "output_type": "stream",
          "name": "stdout",
          "text": [
            "[ 8 97 93 57 34]\n"
          ]
        }
      ]
    },
    {
      "cell_type": "code",
      "source": [
        "#to generate random 2 dimensional array\n",
        "x2=random.randint(100,size=(2,5))\n",
        "print(x2)"
      ],
      "metadata": {
        "colab": {
          "base_uri": "https://localhost:8080/"
        },
        "id": "__G_vHKVsCC8",
        "outputId": "c8a92c48-4667-41e8-c76e-2073ebd2e407"
      },
      "execution_count": null,
      "outputs": [
        {
          "output_type": "stream",
          "name": "stdout",
          "text": [
            "[[ 7 46  4 48 92]\n",
            " [94 77 56 71  3]]\n"
          ]
        }
      ]
    },
    {
      "cell_type": "code",
      "source": [
        "r=random.choice([3,5,6,2])\n",
        "print(r)"
      ],
      "metadata": {
        "colab": {
          "base_uri": "https://localhost:8080/"
        },
        "id": "bcykACd-sx3m",
        "outputId": "84ad442f-14c1-45c0-d7d5-ed752ab8359f"
      },
      "execution_count": null,
      "outputs": [
        {
          "output_type": "stream",
          "name": "stdout",
          "text": [
            "2\n"
          ]
        }
      ]
    },
    {
      "cell_type": "code",
      "source": [
        "r=random.choice([4,8,6,23,0],size=(5))\n",
        "print(r)"
      ],
      "metadata": {
        "colab": {
          "base_uri": "https://localhost:8080/"
        },
        "id": "FOPC1o9As7sY",
        "outputId": "328ac2fd-5840-46d5-d9e6-bbac2857fad9"
      },
      "execution_count": null,
      "outputs": [
        {
          "output_type": "stream",
          "name": "stdout",
          "text": [
            "[6 0 6 6 4]\n"
          ]
        }
      ]
    },
    {
      "cell_type": "code",
      "source": [
        "r=random.choice([7,6,4,90,67],size=(3,2,7))\n",
        "print(r)"
      ],
      "metadata": {
        "colab": {
          "base_uri": "https://localhost:8080/"
        },
        "id": "erSIVuTZtBpd",
        "outputId": "c4172c4c-88b8-4684-8cd2-ebf775bfc17f"
      },
      "execution_count": null,
      "outputs": [
        {
          "output_type": "stream",
          "name": "stdout",
          "text": [
            "[[[ 7 67  4  4  7  4 90]\n",
            "  [90  4 67  4 67  4  6]]\n",
            "\n",
            " [[ 7  6  4 67 67 90  4]\n",
            "  [ 4 90  6  7  6 90  4]]\n",
            "\n",
            " [[90  6  7  4 90  4  7]\n",
            "  [ 7  7  6 67 67 90  7]]]\n"
          ]
        }
      ]
    },
    {
      "cell_type": "code",
      "source": [
        "#universal function\n",
        "a1=np.array([1,2,3])\n",
        "a2=np.array([3,2,1])\n",
        "add_result=np.add(a1,a2)\n",
        "subtract_result=np.subtract(a1,a2)\n",
        "multiply_result=np.multiply(a1,a2)\n",
        "divide_result=np.divide(a1,a2)\n",
        "print(add_result)\n",
        "print(subtract_result)\n",
        "print(multiply_result)\n",
        "print(divide_result)"
      ],
      "metadata": {
        "colab": {
          "base_uri": "https://localhost:8080/"
        },
        "id": "ZJKTTswquftV",
        "outputId": "e8b91560-2085-4df8-c4cb-cfcf3f99b0d9"
      },
      "execution_count": null,
      "outputs": [
        {
          "output_type": "stream",
          "name": "stdout",
          "text": [
            "[4 4 4]\n",
            "[-2  0  2]\n",
            "[3 4 3]\n",
            "[0.33333333 1.         3.        ]\n"
          ]
        }
      ]
    },
    {
      "cell_type": "code",
      "source": [
        "arr=np.array([[1,2,3],[2,3,4]])\n",
        "print(arr)\n",
        "print(arr.shape)\n",
        "print(arr.ndim)\n",
        "arr=np.array([[[1,2,3],[1,2,3]],[[1,2,3],[4,5,6]]])\n",
        "print(arr)\n",
        "print(arr.shape)\n",
        "print(arr.ndim)"
      ],
      "metadata": {
        "colab": {
          "base_uri": "https://localhost:8080/"
        },
        "id": "NGpuCOv1y3lJ",
        "outputId": "2f54d071-ad3b-4ea0-a73d-ffb03f68a680"
      },
      "execution_count": 13,
      "outputs": [
        {
          "output_type": "stream",
          "name": "stdout",
          "text": [
            "[[1 2 3]\n",
            " [2 3 4]]\n",
            "(2, 3)\n",
            "2\n",
            "[[[1 2 3]\n",
            "  [1 2 3]]\n",
            "\n",
            " [[1 2 3]\n",
            "  [4 5 6]]]\n",
            "(2, 2, 3)\n",
            "3\n"
          ]
        }
      ]
    },
    {
      "cell_type": "code",
      "source": [
        "arr=np.array([[[1,2,3],[1,2,3]]])\n",
        "print(arr)\n",
        "print(arr.shape)\n",
        "print(arr.ndim)"
      ],
      "metadata": {
        "colab": {
          "base_uri": "https://localhost:8080/"
        },
        "id": "sxKlqClG0f4f",
        "outputId": "5724afe0-c8a5-460a-cdd5-87dcc0e7e0ae"
      },
      "execution_count": 14,
      "outputs": [
        {
          "output_type": "stream",
          "name": "stdout",
          "text": [
            "[[[1 2 3]\n",
            "  [1 2 3]]]\n",
            "(1, 2, 3)\n",
            "3\n"
          ]
        }
      ]
    },
    {
      "cell_type": "code",
      "source": [
        "#creating multidimensional arrays usinf ndmin\n",
        "array=np.array([1,2,5,4],ndmin=5)\n",
        "print(array)\n",
        "print(array.ndim)#to know the dimensions"
      ],
      "metadata": {
        "colab": {
          "base_uri": "https://localhost:8080/"
        },
        "id": "2Y8ZrMXM1Out",
        "outputId": "52b0d691-3fce-454f-ec10-733eace84397"
      },
      "execution_count": 15,
      "outputs": [
        {
          "output_type": "stream",
          "name": "stdout",
          "text": [
            "[[[[[1 2 5 4]]]]]\n",
            "5\n"
          ]
        }
      ]
    },
    {
      "cell_type": "code",
      "source": [
        "#indexing\n",
        "arr=np.array([1,2,3,4,5])\n",
        "print(arr[2])\n",
        "print(arr[-1])"
      ],
      "metadata": {
        "colab": {
          "base_uri": "https://localhost:8080/"
        },
        "id": "f105qPJ218Td",
        "outputId": "e60fd5fe-b696-4243-cdbb-bea78053dddc"
      },
      "execution_count": 16,
      "outputs": [
        {
          "output_type": "stream",
          "name": "stdout",
          "text": [
            "3\n",
            "5\n"
          ]
        }
      ]
    },
    {
      "cell_type": "code",
      "source": [
        "#indexing for 2 dimensional array\n",
        "arr2d=np.array([[1,2,3],[4,7,5]])\n",
        "print(arr2d[1,1])\n",
        "print(arr2d[1,2])\n",
        "print(arr2d[1,-1])"
      ],
      "metadata": {
        "colab": {
          "base_uri": "https://localhost:8080/"
        },
        "id": "t8hhG8vN2IOT",
        "outputId": "e88cf2bf-7546-4f2b-a60c-b37e2e17b07f"
      },
      "execution_count": 19,
      "outputs": [
        {
          "output_type": "stream",
          "name": "stdout",
          "text": [
            "7\n",
            "5\n",
            "5\n"
          ]
        }
      ]
    },
    {
      "cell_type": "code",
      "source": [
        "#boolean indexing\n",
        "arr=np.array([1,2,3,4,5,6,7])\n",
        "mask=arr>2\n",
        "print(arr[mask])\n",
        "print(mask)\n",
        "indices=np.where(mask)\n",
        "print(indices)"
      ],
      "metadata": {
        "colab": {
          "base_uri": "https://localhost:8080/"
        },
        "id": "UCMVugMz2u2C",
        "outputId": "19fb1323-5935-4f9c-88bf-2afff4e65fa5"
      },
      "execution_count": 21,
      "outputs": [
        {
          "output_type": "stream",
          "name": "stdout",
          "text": [
            "[3 4 5 6 7]\n",
            "[False False  True  True  True  True  True]\n",
            "(array([2, 3, 4, 5, 6]),)\n"
          ]
        }
      ]
    },
    {
      "cell_type": "code",
      "source": [
        "#slicing\n",
        "a=np.array([1,2,6,3,2,2,5,6])\n",
        "slice_result=a[2:6]\n",
        "print(slice_result)\n"
      ],
      "metadata": {
        "id": "5783ANCb5pLL"
      },
      "execution_count": null,
      "outputs": []
    },
    {
      "cell_type": "code",
      "source": [
        "a=np.array([[1,2,3],[4,5,6],[7,8,9]])\n",
        "print(a[0])#first row\n",
        "print(a[0,:])\n",
        "print(a[:,-1])#last col\n",
        "print(a[:,0])#first col\n",
        "print(a[1:3,1:3])#sub matrix array[rowstart:rowend,colstart:colend]\n",
        "print(a[::2, ::2])#arr[start:stop:step]\n"
      ],
      "metadata": {
        "colab": {
          "base_uri": "https://localhost:8080/"
        },
        "id": "sDdvqtIa7GuX",
        "outputId": "2f9f9ed0-bded-49f8-9a5d-68ca636a276f"
      },
      "execution_count": 26,
      "outputs": [
        {
          "output_type": "stream",
          "name": "stdout",
          "text": [
            "[1 2 3]\n",
            "[1 2 3]\n",
            "[3 6 9]\n",
            "[1 4 7]\n",
            "[[5 6]\n",
            " [8 9]]\n",
            "[[1 3]\n",
            " [7 9]]\n"
          ]
        }
      ]
    },
    {
      "cell_type": "code",
      "source": [
        "arr=np.array([1,2,3,4,5,6,7,8,9])\n",
        "slice_result=arr[1:9:2]\n",
        "print(slice_result)"
      ],
      "metadata": {
        "colab": {
          "base_uri": "https://localhost:8080/"
        },
        "id": "icXZ_8q3JP-n",
        "outputId": "4107ff88-d8eb-4bf3-b29a-6a9d797ba62a"
      },
      "execution_count": 25,
      "outputs": [
        {
          "output_type": "stream",
          "name": "stdout",
          "text": [
            "[2 4 6 8]\n"
          ]
        }
      ]
    },
    {
      "cell_type": "code",
      "source": [
        "#Copy vs View\n",
        "#copy-this one will not change the original array\n",
        "original_array=np.array([1,2,3,4,5])\n",
        "copied_array=original_array.copy()\n",
        "copied_array[0]=10\n",
        "print(\"original_array\",original_array)\n",
        "print(\"copied_array\",copied_array)"
      ],
      "metadata": {
        "colab": {
          "base_uri": "https://localhost:8080/"
        },
        "id": "W5D_Y31CJ2Vz",
        "outputId": "feb7d1f8-4dd1-49c6-d4c1-3b7a470074d9"
      },
      "execution_count": 27,
      "outputs": [
        {
          "output_type": "stream",
          "name": "stdout",
          "text": [
            "original_array [1 2 3 4 5]\n",
            "copied_array [10  2  3  4  5]\n"
          ]
        }
      ]
    },
    {
      "cell_type": "code",
      "source": [
        "#view-this one will change the original array\n",
        "original_array=np.array([1,2,3,4,5])\n",
        "view_array=original_array.view()\n",
        "view_array[0]=10\n",
        "print(\"original_array\",original_array)\n",
        "print(\"view_array\",view_array)"
      ],
      "metadata": {
        "colab": {
          "base_uri": "https://localhost:8080/"
        },
        "id": "IJWb4UaOMw1i",
        "outputId": "75b137a0-122a-4844-ae7f-33ca08877276"
      },
      "execution_count": 28,
      "outputs": [
        {
          "output_type": "stream",
          "name": "stdout",
          "text": [
            "original_array [10  2  3  4  5]\n",
            "view_array [10  2  3  4  5]\n"
          ]
        }
      ]
    },
    {
      "cell_type": "code",
      "source": [
        "original_array=np.array([[1,2,3],[4,5,6]])\n",
        "array_view=original_array.view()\n",
        "array_view.shape=(6,1)\n",
        "print(\"original Array\")\n",
        "print(original_array)\n",
        "print(\"array_view\")\n",
        "print(array_view)\n",
        "array_view.shape=(3,2)\n",
        "print(\"original Array\")\n",
        "print(original_array)\n",
        "print(\"array_view\")\n",
        "print(array_view)\n"
      ],
      "metadata": {
        "colab": {
          "base_uri": "https://localhost:8080/"
        },
        "id": "V_BTXuxjNqI_",
        "outputId": "21c8486e-eca8-4f2b-cea5-3f07d235ab6c"
      },
      "execution_count": 31,
      "outputs": [
        {
          "output_type": "stream",
          "name": "stdout",
          "text": [
            "original Array\n",
            "[[1 2 3]\n",
            " [4 5 6]]\n",
            "array_view\n",
            "[[1]\n",
            " [2]\n",
            " [3]\n",
            " [4]\n",
            " [5]\n",
            " [6]]\n",
            "original Array\n",
            "[[1 2 3]\n",
            " [4 5 6]]\n",
            "array_view\n",
            "[[1 2]\n",
            " [3 4]\n",
            " [5 6]]\n"
          ]
        }
      ]
    }
  ]
}